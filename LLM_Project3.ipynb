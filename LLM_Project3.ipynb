{
  "metadata": {
    "kernelspec": {
      "name": "python3",
      "display_name": "Python 3",
      "language": "python"
    },
    "language_info": {
      "name": "python",
      "version": "3.11.11",
      "mimetype": "text/x-python",
      "codemirror_mode": {
        "name": "ipython",
        "version": 3
      },
      "pygments_lexer": "ipython3",
      "nbconvert_exporter": "python",
      "file_extension": ".py"
    },
    "colab": {
      "provenance": [],
      "include_colab_link": true
    },
    "kaggle": {
      "accelerator": "nvidiaTeslaT4",
      "dataSources": [
        {
          "sourceId": 11627313,
          "sourceType": "datasetVersion",
          "datasetId": 7294793
        },
        {
          "sourceId": 11628160,
          "sourceType": "datasetVersion",
          "datasetId": 7295423
        },
        {
          "sourceId": 11628178,
          "sourceType": "datasetVersion",
          "datasetId": 7295438
        }
      ],
      "dockerImageVersionId": 31011,
      "isInternetEnabled": true,
      "language": "python",
      "sourceType": "notebook",
      "isGpuEnabled": true
    }
  },
  "nbformat_minor": 0,
  "nbformat": 4,
  "cells": [
    {
      "cell_type": "markdown",
      "metadata": {
        "id": "view-in-github",
        "colab_type": "text"
      },
      "source": [
        "<a href=\"https://colab.research.google.com/github/Bhavya171/LLM_From_Scratch/blob/main/LLM_Project3.ipynb\" target=\"_parent\"><img src=\"https://colab.research.google.com/assets/colab-badge.svg\" alt=\"Open In Colab\"/></a>"
      ]
    },
    {
      "cell_type": "markdown",
      "source": [
        "# Project 3"
      ],
      "metadata": {
        "id": "mMzER2hfCTjl"
      }
    },
    {
      "cell_type": "markdown",
      "source": [
        "We have to fine tune any model on any dataset for instruction following"
      ],
      "metadata": {
        "id": "dB7MFff_CTjm"
      }
    },
    {
      "cell_type": "markdown",
      "source": [
        "## Importing libraries"
      ],
      "metadata": {
        "id": "Q15vOcX1CTjn"
      }
    },
    {
      "cell_type": "code",
      "source": [
        "from transformers import AutoTokenizer, AutoModelForSeq2SeqLM, Seq2SeqTrainer, Seq2SeqTrainingArguments\n",
        "from datasets import load_dataset\n",
        "import torch"
      ],
      "metadata": {
        "trusted": true,
        "id": "oSVZHQgwCTjn"
      },
      "outputs": [],
      "execution_count": null
    },
    {
      "cell_type": "markdown",
      "source": [
        "## Loading the dataset:"
      ],
      "metadata": {
        "id": "1-1_-91LCTjn"
      }
    },
    {
      "cell_type": "markdown",
      "source": [
        "I have used Databricks dolly 15k datase. The sample entry of the dataset is here.\n",
        "![image.png](data:image/png;base64,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)"
      ],
      "metadata": {
        "id": "RGNkGPCwCTjn"
      }
    },
    {
      "cell_type": "code",
      "source": [
        "# Load dataset\n",
        "dataset = load_dataset(\"databricks/databricks-dolly-15k\", split=\"train[:1000]\")\n"
      ],
      "metadata": {
        "trusted": true,
        "id": "9YVKew-tCTjo"
      },
      "outputs": [],
      "execution_count": null
    },
    {
      "cell_type": "markdown",
      "source": [
        "## Loading the model:"
      ],
      "metadata": {
        "id": "k9WSZsB6CTjo"
      }
    },
    {
      "cell_type": "markdown",
      "source": [
        "I have taken flan-t5 model by google which i have finetuned for instruction following"
      ],
      "metadata": {
        "id": "vVWkEegNCTjo"
      }
    },
    {
      "cell_type": "code",
      "source": [
        "# Load tokenizer and model\n",
        "model_name = \"google/flan-t5-small\"\n",
        "tokenizer = AutoTokenizer.from_pretrained(model_name)\n",
        "model = AutoModelForSeq2SeqLM.from_pretrained(model_name)"
      ],
      "metadata": {
        "trusted": true,
        "id": "d3f_klTPCTjo"
      },
      "outputs": [],
      "execution_count": null
    },
    {
      "cell_type": "markdown",
      "source": [
        "## Prompt Formatting:\n",
        "\n",
        "Format Function (format_prompt): Converts each example into a structured prompt with Instruction, optional Input (context), and Output: to standardize the format for model training.\n",
        "\n",
        "Dataset Mapping: Applies this formatting to the entire dataset using .map(), producing new entries with prompt and output fields.\n",
        "\n",
        "Set Token Limits: Defines max_input_length (512) and max_target_length (128) to control prompt and response length during tokenization."
      ],
      "metadata": {
        "id": "aWwJTRt0CTjo"
      }
    },
    {
      "cell_type": "code",
      "source": [
        "# Format prompt\n",
        "def format_prompt(example):\n",
        "    if example[\"context\"]:\n",
        "        prompt = f\"Instruction: {example['instruction']}\\nInput: {example['context']}\\nOutput:\"\n",
        "    else:\n",
        "        prompt = f\"Instruction: {example['instruction']}\\nOutput:\"\n",
        "    return {\"prompt\": prompt, \"output\": example[\"response\"]}\n",
        "\n",
        "dataset = dataset.map(format_prompt)\n",
        "# Tokenization\n",
        "max_input_length = 512\n",
        "max_target_length = 128"
      ],
      "metadata": {
        "trusted": true,
        "id": "_QmGS0qLCTjo"
      },
      "outputs": [],
      "execution_count": null
    },
    {
      "cell_type": "markdown",
      "source": [
        "## Dataset Preprocessing:\n",
        "\n",
        "Prompt Formatting: Combines instruction and optional context into a structured prompt, paired with the expected response.\n",
        "\n",
        "Tokenization: Converts both prompt and response into fixed-length token ID sequences using a tokenizer.\n",
        "\n",
        "Training Preparation: Sets the tokenized response as labels for supervised learning, enabling the model to learn output generation from prompts."
      ],
      "metadata": {
        "id": "FE32L1joCTjp"
      }
    },
    {
      "cell_type": "code",
      "source": [
        "# converts the prompt string to token ids\n",
        "\n",
        "def tokenize(example):\n",
        "    inputs = tokenizer(\n",
        "        example[\"prompt\"],\n",
        "        max_length=max_input_length,\n",
        "        padding=\"max_length\",\n",
        "        truncation=True,\n",
        "        return_tensors=\"pt\", # return tensors\n",
        "    )\n",
        "    targets = tokenizer(\n",
        "        example[\"output\"],\n",
        "        max_length=max_target_length,\n",
        "        padding=\"max_length\",\n",
        "        truncation=True,\n",
        "        return_tensors=\"pt\",\n",
        "    )\n",
        "    inputs[\"labels\"] = targets[\"input_ids\"]\n",
        "    return inputs\n",
        "\n",
        "tokenized_dataset = dataset.map(tokenize, batched=True, remove_columns=dataset.column_names)\n",
        "\n"
      ],
      "metadata": {
        "trusted": true,
        "id": "efnGcqGpCTjp"
      },
      "outputs": [],
      "execution_count": null
    },
    {
      "cell_type": "markdown",
      "source": [
        "## Training Configuration:\n",
        "\n",
        "Specifies key training parameters like batch size (8), learning rate (2e-4), number of epochs (3), and checkpoint/logging behavior.\n",
        "\n",
        "Enables mixed precision (fp16) if a compatible GPU is available for faster and more efficient training."
      ],
      "metadata": {
        "id": "e4SaLtrECTjp"
      }
    },
    {
      "cell_type": "code",
      "source": [
        "# Training arguments\n",
        "training_args = Seq2SeqTrainingArguments(\n",
        "    output_dir=\"./flan-t5-small-dolly\",\n",
        "    per_device_train_batch_size=8,\n",
        "    learning_rate=2e-4,\n",
        "    num_train_epochs=3,\n",
        "    save_steps=100,\n",
        "    logging_dir=\"./logs\",\n",
        "    logging_steps=50,\n",
        "    save_total_limit=1,\n",
        "    eval_strategy=\"no\",  # for faster runs\n",
        "    report_to=\"none\",  # turn off WandB etc.\n",
        "    fp16=torch.cuda.is_available(),\n",
        ")\n",
        "\n"
      ],
      "metadata": {
        "trusted": true,
        "id": "jl01sI3CCTjp"
      },
      "outputs": [],
      "execution_count": null
    },
    {
      "cell_type": "markdown",
      "source": [
        "## Trainer Initialization:\n",
        "\n",
        "Binds together the model, training arguments, tokenized dataset, and tokenizer into a training loop handler"
      ],
      "metadata": {
        "id": "w2BG0XqJCTjp"
      }
    },
    {
      "cell_type": "code",
      "source": [
        "# Trainer\n",
        "trainer = Seq2SeqTrainer(\n",
        "    model=model,\n",
        "    args=training_args,\n",
        "    train_dataset=tokenized_dataset,\n",
        "    tokenizer=tokenizer,\n",
        ")"
      ],
      "metadata": {
        "trusted": true,
        "id": "fNQwI0d0CTjp"
      },
      "outputs": [],
      "execution_count": null
    },
    {
      "cell_type": "code",
      "source": [
        "trainer.train()\n"
      ],
      "metadata": {
        "trusted": true,
        "id": "MiYRyEIyCTjp"
      },
      "outputs": [],
      "execution_count": null
    },
    {
      "cell_type": "markdown",
      "source": [
        "## Saving the model"
      ],
      "metadata": {
        "id": "Jp3ELz8lCTjp"
      }
    },
    {
      "cell_type": "code",
      "source": [
        "# Save model and tokenizer\n",
        "trainer.save_model(\"./flan-t5-small-dolly\")\n",
        "tokenizer.save_pretrained(\"./flan-t5-small-dolly\")\n"
      ],
      "metadata": {
        "trusted": true,
        "id": "8qCRSZCQCTjp"
      },
      "outputs": [],
      "execution_count": null
    },
    {
      "cell_type": "markdown",
      "source": [
        "## Loading the model again and checking the output"
      ],
      "metadata": {
        "id": "LEWI1bITCTjq"
      }
    },
    {
      "cell_type": "code",
      "source": [
        "from transformers import AutoTokenizer, AutoModelForSeq2SeqLM\n",
        "\n",
        "# Load fine-tuned model\n",
        "model_dir = \"./flan-t5-small-dolly\"\n",
        "tokenizer = AutoTokenizer.from_pretrained(model_dir)\n",
        "model = AutoModelForSeq2SeqLM.from_pretrained(model_dir)\n",
        "\n",
        "def generate_response(instruction, context=None, max_new_tokens=100):\n",
        "    if context:\n",
        "        prompt = f\"Instruction: {instruction}\\nInput: {context}\\nOutput:\"\n",
        "    else:\n",
        "        prompt = f\"Instruction: {instruction}\\nOutput:\"\n",
        "\n",
        "    input_ids = tokenizer(prompt, return_tensors=\"pt\", truncation=True, padding=True).input_ids\n",
        "    output_ids = model.generate(input_ids=input_ids, max_new_tokens=max_new_tokens)\n",
        "    response = tokenizer.decode(output_ids[0], skip_special_tokens=True)\n",
        "\n",
        "    return response.replace(prompt, \"\").strip()\n",
        "\n",
        "# 🔍 Example 1\n",
        "instruction = \"What is the sentiment of this?\"\n",
        "context = \"This is quiet bad!\"\n",
        "\n",
        "print(\"Output:\", generate_response(instruction, context))\n",
        "\n",
        "# 🔍 Example 2\n",
        "instruction = \"Summarize the following.\"\n",
        "context = \"Zebras are African equines known for their distinctive black and white stripes. They belong to the subgenus Hippotigris and are native to various habitats in eastern and southern Africa. There are three living species: Grévy's zebra, plains zebra, and mountain zebra. \"\n",
        "\n",
        "print(\"Output:\", generate_response(instruction, context))\n"
      ],
      "metadata": {
        "trusted": true,
        "id": "6OVxvKmkCTjq"
      },
      "outputs": [],
      "execution_count": null
    },
    {
      "cell_type": "code",
      "source": [],
      "metadata": {
        "trusted": true,
        "id": "MmO-rm3fCTjq"
      },
      "outputs": [],
      "execution_count": null
    }
  ]
}