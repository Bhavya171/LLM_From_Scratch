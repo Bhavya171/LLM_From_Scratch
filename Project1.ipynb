{
  "metadata": {
    "kernelspec": {
      "name": "python3",
      "display_name": "Python 3",
      "language": "python"
    },
    "language_info": {
      "name": "python",
      "version": "3.10.12",
      "mimetype": "text/x-python",
      "codemirror_mode": {
        "name": "ipython",
        "version": 3
      },
      "pygments_lexer": "ipython3",
      "nbconvert_exporter": "python",
      "file_extension": ".py"
    },
    "colab": {
      "provenance": [],
      "gpuType": "T4",
      "include_colab_link": true
    },
    "accelerator": "GPU",
    "kaggle": {
      "accelerator": "gpu",
      "dataSources": [],
      "dockerImageVersionId": 30919,
      "isInternetEnabled": true,
      "language": "python",
      "sourceType": "notebook",
      "isGpuEnabled": true
    }
  },
  "nbformat_minor": 0,
  "nbformat": 4,
  "cells": [
    {
      "cell_type": "markdown",
      "metadata": {
        "id": "view-in-github",
        "colab_type": "text"
      },
      "source": [
        "<a href=\"https://colab.research.google.com/github/Bhavya171/LLM_From_Scratch/blob/main/Project1.ipynb\" target=\"_parent\"><img src=\"https://colab.research.google.com/assets/colab-badge.svg\" alt=\"Open In Colab\"/></a>"
      ]
    },
    {
      "cell_type": "markdown",
      "source": [
        "# Project 1 based on chapter 1-5"
      ],
      "metadata": {
        "id": "aYIbLWEuS3V_"
      }
    },
    {
      "cell_type": "markdown",
      "source": [
        "I have made a dataset1.txt file which contains data from both the books which i will use as the training and validation data."
      ],
      "metadata": {
        "id": "zaqPHnxmS6_v"
      }
    },
    {
      "cell_type": "markdown",
      "source": [
        "## Cloning git repo for supporting files"
      ],
      "metadata": {
        "id": "KqVtg2P5TFjQ"
      }
    },
    {
      "cell_type": "code",
      "source": [
        "!git clone https://github.com/Bhavya171/LLM_From_Scratch"
      ],
      "metadata": {
        "colab": {
          "base_uri": "https://localhost:8080/"
        },
        "id": "nfwSi5U_BhOW",
        "outputId": "29843b13-bca3-46ac-c10b-70140ceca0fa",
        "trusted": true,
        "execution": {
          "iopub.status.busy": "2025-04-03T08:19:11.439627Z",
          "iopub.execute_input": "2025-04-03T08:19:11.439916Z",
          "iopub.status.idle": "2025-04-03T08:19:12.623540Z",
          "shell.execute_reply.started": "2025-04-03T08:19:11.439883Z",
          "shell.execute_reply": "2025-04-03T08:19:12.622487Z"
        }
      },
      "outputs": [
        {
          "output_type": "stream",
          "name": "stdout",
          "text": [
            "Cloning into 'LLM_From_Scratch'...\n",
            "remote: Enumerating objects: 60, done.\u001b[K\n",
            "remote: Counting objects: 100% (60/60), done.\u001b[K\n",
            "remote: Compressing objects: 100% (57/57), done.\u001b[K\n",
            "remote: Total 60 (delta 24), reused 4 (delta 1), pack-reused 0 (from 0)\u001b[K\n",
            "Receiving objects: 100% (60/60), 2.06 MiB | 8.52 MiB/s, done.\n",
            "Resolving deltas: 100% (24/24), done.\n"
          ]
        }
      ],
      "execution_count": null
    },
    {
      "cell_type": "code",
      "source": [
        "!pwd"
      ],
      "metadata": {
        "trusted": true,
        "execution": {
          "iopub.status.busy": "2025-04-03T08:19:12.624635Z",
          "iopub.execute_input": "2025-04-03T08:19:12.624908Z",
          "iopub.status.idle": "2025-04-03T08:19:12.741839Z",
          "shell.execute_reply.started": "2025-04-03T08:19:12.624872Z",
          "shell.execute_reply": "2025-04-03T08:19:12.740694Z"
        },
        "colab": {
          "base_uri": "https://localhost:8080/"
        },
        "id": "BIqxXrOBE5Nh",
        "outputId": "1a0db803-b549-4150-ffff-2be9aaf2520e"
      },
      "outputs": [
        {
          "output_type": "stream",
          "name": "stdout",
          "text": [
            "/content\n"
          ]
        }
      ],
      "execution_count": null
    },
    {
      "cell_type": "code",
      "source": [
        "%cd LLM_From_Scratch"
      ],
      "metadata": {
        "colab": {
          "base_uri": "https://localhost:8080/"
        },
        "id": "C9iTJ4rTL3Qz",
        "outputId": "191ebca1-4d8a-4e79-80a7-ce8fdcbc9a8b",
        "trusted": true,
        "execution": {
          "iopub.status.busy": "2025-04-03T08:19:42.682775Z",
          "iopub.execute_input": "2025-04-03T08:19:42.683111Z",
          "iopub.status.idle": "2025-04-03T08:19:42.688597Z",
          "shell.execute_reply.started": "2025-04-03T08:19:42.683082Z",
          "shell.execute_reply": "2025-04-03T08:19:42.687673Z"
        }
      },
      "outputs": [
        {
          "output_type": "stream",
          "name": "stdout",
          "text": [
            "/content/LLM_From_Scratch\n"
          ]
        }
      ],
      "execution_count": null
    },
    {
      "cell_type": "code",
      "source": [
        "!pip install tiktoken"
      ],
      "metadata": {
        "colab": {
          "base_uri": "https://localhost:8080/"
        },
        "id": "aZ1eOEGrMSVf",
        "outputId": "3b5cdf43-296d-4093-d705-24472d636353",
        "trusted": true,
        "execution": {
          "iopub.status.busy": "2025-04-03T08:19:52.207123Z",
          "iopub.execute_input": "2025-04-03T08:19:52.207423Z",
          "iopub.status.idle": "2025-04-03T08:19:56.338900Z",
          "shell.execute_reply.started": "2025-04-03T08:19:52.207401Z",
          "shell.execute_reply": "2025-04-03T08:19:56.338073Z"
        }
      },
      "outputs": [
        {
          "output_type": "stream",
          "name": "stdout",
          "text": [
            "Collecting tiktoken\n",
            "  Downloading tiktoken-0.9.0-cp311-cp311-manylinux_2_17_x86_64.manylinux2014_x86_64.whl.metadata (6.7 kB)\n",
            "Requirement already satisfied: regex>=2022.1.18 in /usr/local/lib/python3.11/dist-packages (from tiktoken) (2024.11.6)\n",
            "Requirement already satisfied: requests>=2.26.0 in /usr/local/lib/python3.11/dist-packages (from tiktoken) (2.32.3)\n",
            "Requirement already satisfied: charset-normalizer<4,>=2 in /usr/local/lib/python3.11/dist-packages (from requests>=2.26.0->tiktoken) (3.4.1)\n",
            "Requirement already satisfied: idna<4,>=2.5 in /usr/local/lib/python3.11/dist-packages (from requests>=2.26.0->tiktoken) (3.10)\n",
            "Requirement already satisfied: urllib3<3,>=1.21.1 in /usr/local/lib/python3.11/dist-packages (from requests>=2.26.0->tiktoken) (2.3.0)\n",
            "Requirement already satisfied: certifi>=2017.4.17 in /usr/local/lib/python3.11/dist-packages (from requests>=2.26.0->tiktoken) (2025.1.31)\n",
            "Downloading tiktoken-0.9.0-cp311-cp311-manylinux_2_17_x86_64.manylinux2014_x86_64.whl (1.2 MB)\n",
            "\u001b[2K   \u001b[90m━━━━━━━━━━━━━━━━━━━━━━━━━━━━━━━━━━━━━━━━\u001b[0m \u001b[32m1.2/1.2 MB\u001b[0m \u001b[31m14.6 MB/s\u001b[0m eta \u001b[36m0:00:00\u001b[0m\n",
            "\u001b[?25hInstalling collected packages: tiktoken\n",
            "Successfully installed tiktoken-0.9.0\n"
          ]
        }
      ],
      "execution_count": null
    },
    {
      "cell_type": "markdown",
      "source": [
        "## Importing neccesary functions from previous chapters"
      ],
      "metadata": {
        "id": "UBy2-AL3TKll"
      }
    },
    {
      "cell_type": "code",
      "source": [
        "import torch\n",
        "import tiktoken\n",
        "from previous_chapters import GPTModel\n",
        "from previous_chapters import create_dataloader_v1\n",
        "from previous_chapters import generate_text_simple\n",
        "import matplotlib.pyplot as plt\n",
        "from matplotlib.ticker import MaxNLocator\n"
      ],
      "metadata": {
        "id": "RB_cOTqXMIb8",
        "trusted": true,
        "execution": {
          "iopub.status.busy": "2025-04-03T08:19:57.738038Z",
          "iopub.execute_input": "2025-04-03T08:19:57.738342Z",
          "iopub.status.idle": "2025-04-03T08:20:00.777062Z",
          "shell.execute_reply.started": "2025-04-03T08:19:57.738320Z",
          "shell.execute_reply": "2025-04-03T08:20:00.776388Z"
        }
      },
      "outputs": [],
      "execution_count": null
    },
    {
      "cell_type": "code",
      "source": [
        "\n",
        "\n",
        "GPT_CONFIG_124M = {\n",
        "    \"vocab_size\": 50257,\n",
        "    \"context_length\": 256,\n",
        "    \"emb_dim\": 768,\n",
        "    \"n_heads\": 12,\n",
        "    \"n_layers\": 12,\n",
        "    \"drop_rate\": 0.1,\n",
        "    \"qkv_bias\": False\n",
        "}\n",
        "\n",
        "\n",
        "torch.manual_seed(123)\n",
        "model = GPTModel(GPT_CONFIG_124M)\n",
        "model.eval()\n"
      ],
      "metadata": {
        "id": "G1E4mpWsMM43",
        "colab": {
          "base_uri": "https://localhost:8080/"
        },
        "outputId": "dedb8234-88ea-4ed1-8193-8700910bc1e0",
        "trusted": true,
        "execution": {
          "iopub.status.busy": "2025-04-03T08:20:03.738768Z",
          "iopub.execute_input": "2025-04-03T08:20:03.739236Z",
          "iopub.status.idle": "2025-04-03T08:20:05.145137Z",
          "shell.execute_reply.started": "2025-04-03T08:20:03.739204Z",
          "shell.execute_reply": "2025-04-03T08:20:05.144249Z"
        }
      },
      "outputs": [
        {
          "output_type": "execute_result",
          "data": {
            "text/plain": [
              "GPTModel(\n",
              "  (tok_emb): Embedding(50257, 768)\n",
              "  (pos_emb): Embedding(256, 768)\n",
              "  (drop_emb): Dropout(p=0.1, inplace=False)\n",
              "  (trf_blocks): Sequential(\n",
              "    (0): TransformerBlock(\n",
              "      (att): MultiHeadAttention(\n",
              "        (W_query): Linear(in_features=768, out_features=768, bias=False)\n",
              "        (W_key): Linear(in_features=768, out_features=768, bias=False)\n",
              "        (W_value): Linear(in_features=768, out_features=768, bias=False)\n",
              "        (out_proj): Linear(in_features=768, out_features=768, bias=True)\n",
              "        (dropout): Dropout(p=0.1, inplace=False)\n",
              "      )\n",
              "      (ff): FeedForward(\n",
              "        (layers): Sequential(\n",
              "          (0): Linear(in_features=768, out_features=3072, bias=True)\n",
              "          (1): GELU()\n",
              "          (2): Linear(in_features=3072, out_features=768, bias=True)\n",
              "        )\n",
              "      )\n",
              "      (norm1): LayerNorm()\n",
              "      (norm2): LayerNorm()\n",
              "      (drop_shortcut): Dropout(p=0.1, inplace=False)\n",
              "    )\n",
              "    (1): TransformerBlock(\n",
              "      (att): MultiHeadAttention(\n",
              "        (W_query): Linear(in_features=768, out_features=768, bias=False)\n",
              "        (W_key): Linear(in_features=768, out_features=768, bias=False)\n",
              "        (W_value): Linear(in_features=768, out_features=768, bias=False)\n",
              "        (out_proj): Linear(in_features=768, out_features=768, bias=True)\n",
              "        (dropout): Dropout(p=0.1, inplace=False)\n",
              "      )\n",
              "      (ff): FeedForward(\n",
              "        (layers): Sequential(\n",
              "          (0): Linear(in_features=768, out_features=3072, bias=True)\n",
              "          (1): GELU()\n",
              "          (2): Linear(in_features=3072, out_features=768, bias=True)\n",
              "        )\n",
              "      )\n",
              "      (norm1): LayerNorm()\n",
              "      (norm2): LayerNorm()\n",
              "      (drop_shortcut): Dropout(p=0.1, inplace=False)\n",
              "    )\n",
              "    (2): TransformerBlock(\n",
              "      (att): MultiHeadAttention(\n",
              "        (W_query): Linear(in_features=768, out_features=768, bias=False)\n",
              "        (W_key): Linear(in_features=768, out_features=768, bias=False)\n",
              "        (W_value): Linear(in_features=768, out_features=768, bias=False)\n",
              "        (out_proj): Linear(in_features=768, out_features=768, bias=True)\n",
              "        (dropout): Dropout(p=0.1, inplace=False)\n",
              "      )\n",
              "      (ff): FeedForward(\n",
              "        (layers): Sequential(\n",
              "          (0): Linear(in_features=768, out_features=3072, bias=True)\n",
              "          (1): GELU()\n",
              "          (2): Linear(in_features=3072, out_features=768, bias=True)\n",
              "        )\n",
              "      )\n",
              "      (norm1): LayerNorm()\n",
              "      (norm2): LayerNorm()\n",
              "      (drop_shortcut): Dropout(p=0.1, inplace=False)\n",
              "    )\n",
              "    (3): TransformerBlock(\n",
              "      (att): MultiHeadAttention(\n",
              "        (W_query): Linear(in_features=768, out_features=768, bias=False)\n",
              "        (W_key): Linear(in_features=768, out_features=768, bias=False)\n",
              "        (W_value): Linear(in_features=768, out_features=768, bias=False)\n",
              "        (out_proj): Linear(in_features=768, out_features=768, bias=True)\n",
              "        (dropout): Dropout(p=0.1, inplace=False)\n",
              "      )\n",
              "      (ff): FeedForward(\n",
              "        (layers): Sequential(\n",
              "          (0): Linear(in_features=768, out_features=3072, bias=True)\n",
              "          (1): GELU()\n",
              "          (2): Linear(in_features=3072, out_features=768, bias=True)\n",
              "        )\n",
              "      )\n",
              "      (norm1): LayerNorm()\n",
              "      (norm2): LayerNorm()\n",
              "      (drop_shortcut): Dropout(p=0.1, inplace=False)\n",
              "    )\n",
              "    (4): TransformerBlock(\n",
              "      (att): MultiHeadAttention(\n",
              "        (W_query): Linear(in_features=768, out_features=768, bias=False)\n",
              "        (W_key): Linear(in_features=768, out_features=768, bias=False)\n",
              "        (W_value): Linear(in_features=768, out_features=768, bias=False)\n",
              "        (out_proj): Linear(in_features=768, out_features=768, bias=True)\n",
              "        (dropout): Dropout(p=0.1, inplace=False)\n",
              "      )\n",
              "      (ff): FeedForward(\n",
              "        (layers): Sequential(\n",
              "          (0): Linear(in_features=768, out_features=3072, bias=True)\n",
              "          (1): GELU()\n",
              "          (2): Linear(in_features=3072, out_features=768, bias=True)\n",
              "        )\n",
              "      )\n",
              "      (norm1): LayerNorm()\n",
              "      (norm2): LayerNorm()\n",
              "      (drop_shortcut): Dropout(p=0.1, inplace=False)\n",
              "    )\n",
              "    (5): TransformerBlock(\n",
              "      (att): MultiHeadAttention(\n",
              "        (W_query): Linear(in_features=768, out_features=768, bias=False)\n",
              "        (W_key): Linear(in_features=768, out_features=768, bias=False)\n",
              "        (W_value): Linear(in_features=768, out_features=768, bias=False)\n",
              "        (out_proj): Linear(in_features=768, out_features=768, bias=True)\n",
              "        (dropout): Dropout(p=0.1, inplace=False)\n",
              "      )\n",
              "      (ff): FeedForward(\n",
              "        (layers): Sequential(\n",
              "          (0): Linear(in_features=768, out_features=3072, bias=True)\n",
              "          (1): GELU()\n",
              "          (2): Linear(in_features=3072, out_features=768, bias=True)\n",
              "        )\n",
              "      )\n",
              "      (norm1): LayerNorm()\n",
              "      (norm2): LayerNorm()\n",
              "      (drop_shortcut): Dropout(p=0.1, inplace=False)\n",
              "    )\n",
              "    (6): TransformerBlock(\n",
              "      (att): MultiHeadAttention(\n",
              "        (W_query): Linear(in_features=768, out_features=768, bias=False)\n",
              "        (W_key): Linear(in_features=768, out_features=768, bias=False)\n",
              "        (W_value): Linear(in_features=768, out_features=768, bias=False)\n",
              "        (out_proj): Linear(in_features=768, out_features=768, bias=True)\n",
              "        (dropout): Dropout(p=0.1, inplace=False)\n",
              "      )\n",
              "      (ff): FeedForward(\n",
              "        (layers): Sequential(\n",
              "          (0): Linear(in_features=768, out_features=3072, bias=True)\n",
              "          (1): GELU()\n",
              "          (2): Linear(in_features=3072, out_features=768, bias=True)\n",
              "        )\n",
              "      )\n",
              "      (norm1): LayerNorm()\n",
              "      (norm2): LayerNorm()\n",
              "      (drop_shortcut): Dropout(p=0.1, inplace=False)\n",
              "    )\n",
              "    (7): TransformerBlock(\n",
              "      (att): MultiHeadAttention(\n",
              "        (W_query): Linear(in_features=768, out_features=768, bias=False)\n",
              "        (W_key): Linear(in_features=768, out_features=768, bias=False)\n",
              "        (W_value): Linear(in_features=768, out_features=768, bias=False)\n",
              "        (out_proj): Linear(in_features=768, out_features=768, bias=True)\n",
              "        (dropout): Dropout(p=0.1, inplace=False)\n",
              "      )\n",
              "      (ff): FeedForward(\n",
              "        (layers): Sequential(\n",
              "          (0): Linear(in_features=768, out_features=3072, bias=True)\n",
              "          (1): GELU()\n",
              "          (2): Linear(in_features=3072, out_features=768, bias=True)\n",
              "        )\n",
              "      )\n",
              "      (norm1): LayerNorm()\n",
              "      (norm2): LayerNorm()\n",
              "      (drop_shortcut): Dropout(p=0.1, inplace=False)\n",
              "    )\n",
              "    (8): TransformerBlock(\n",
              "      (att): MultiHeadAttention(\n",
              "        (W_query): Linear(in_features=768, out_features=768, bias=False)\n",
              "        (W_key): Linear(in_features=768, out_features=768, bias=False)\n",
              "        (W_value): Linear(in_features=768, out_features=768, bias=False)\n",
              "        (out_proj): Linear(in_features=768, out_features=768, bias=True)\n",
              "        (dropout): Dropout(p=0.1, inplace=False)\n",
              "      )\n",
              "      (ff): FeedForward(\n",
              "        (layers): Sequential(\n",
              "          (0): Linear(in_features=768, out_features=3072, bias=True)\n",
              "          (1): GELU()\n",
              "          (2): Linear(in_features=3072, out_features=768, bias=True)\n",
              "        )\n",
              "      )\n",
              "      (norm1): LayerNorm()\n",
              "      (norm2): LayerNorm()\n",
              "      (drop_shortcut): Dropout(p=0.1, inplace=False)\n",
              "    )\n",
              "    (9): TransformerBlock(\n",
              "      (att): MultiHeadAttention(\n",
              "        (W_query): Linear(in_features=768, out_features=768, bias=False)\n",
              "        (W_key): Linear(in_features=768, out_features=768, bias=False)\n",
              "        (W_value): Linear(in_features=768, out_features=768, bias=False)\n",
              "        (out_proj): Linear(in_features=768, out_features=768, bias=True)\n",
              "        (dropout): Dropout(p=0.1, inplace=False)\n",
              "      )\n",
              "      (ff): FeedForward(\n",
              "        (layers): Sequential(\n",
              "          (0): Linear(in_features=768, out_features=3072, bias=True)\n",
              "          (1): GELU()\n",
              "          (2): Linear(in_features=3072, out_features=768, bias=True)\n",
              "        )\n",
              "      )\n",
              "      (norm1): LayerNorm()\n",
              "      (norm2): LayerNorm()\n",
              "      (drop_shortcut): Dropout(p=0.1, inplace=False)\n",
              "    )\n",
              "    (10): TransformerBlock(\n",
              "      (att): MultiHeadAttention(\n",
              "        (W_query): Linear(in_features=768, out_features=768, bias=False)\n",
              "        (W_key): Linear(in_features=768, out_features=768, bias=False)\n",
              "        (W_value): Linear(in_features=768, out_features=768, bias=False)\n",
              "        (out_proj): Linear(in_features=768, out_features=768, bias=True)\n",
              "        (dropout): Dropout(p=0.1, inplace=False)\n",
              "      )\n",
              "      (ff): FeedForward(\n",
              "        (layers): Sequential(\n",
              "          (0): Linear(in_features=768, out_features=3072, bias=True)\n",
              "          (1): GELU()\n",
              "          (2): Linear(in_features=3072, out_features=768, bias=True)\n",
              "        )\n",
              "      )\n",
              "      (norm1): LayerNorm()\n",
              "      (norm2): LayerNorm()\n",
              "      (drop_shortcut): Dropout(p=0.1, inplace=False)\n",
              "    )\n",
              "    (11): TransformerBlock(\n",
              "      (att): MultiHeadAttention(\n",
              "        (W_query): Linear(in_features=768, out_features=768, bias=False)\n",
              "        (W_key): Linear(in_features=768, out_features=768, bias=False)\n",
              "        (W_value): Linear(in_features=768, out_features=768, bias=False)\n",
              "        (out_proj): Linear(in_features=768, out_features=768, bias=True)\n",
              "        (dropout): Dropout(p=0.1, inplace=False)\n",
              "      )\n",
              "      (ff): FeedForward(\n",
              "        (layers): Sequential(\n",
              "          (0): Linear(in_features=768, out_features=3072, bias=True)\n",
              "          (1): GELU()\n",
              "          (2): Linear(in_features=3072, out_features=768, bias=True)\n",
              "        )\n",
              "      )\n",
              "      (norm1): LayerNorm()\n",
              "      (norm2): LayerNorm()\n",
              "      (drop_shortcut): Dropout(p=0.1, inplace=False)\n",
              "    )\n",
              "  )\n",
              "  (final_norm): LayerNorm()\n",
              "  (out_head): Linear(in_features=768, out_features=50257, bias=False)\n",
              ")"
            ]
          },
          "metadata": {},
          "execution_count": 6
        }
      ],
      "execution_count": null
    },
    {
      "cell_type": "markdown",
      "source": [
        "## Basic function to convert text to tokens and vice versa\n"
      ],
      "metadata": {
        "id": "WLkWp_qUTTxZ"
      }
    },
    {
      "cell_type": "code",
      "source": [
        "# text to tokens\n",
        "\n",
        "def text_to_token_ids(text,tokenizer):\n",
        "  encoded = tokenizer.encode(text,allowed_special = {'<|endoftext|>'})\n",
        "  encoded_tensor = torch.tensor(encoded).unsqueeze(0)\n",
        "  return encoded_tensor\n",
        "\n",
        "def token_ids_to_text(token_ids,tokenizer):\n",
        "  flat = token_ids.squeeze(0)\n",
        "  return tokenizer.decode(flat.tolist())\n",
        "\n",
        "start_context = \"Every effort moves you\"\n",
        "tokenizer = tiktoken.get_encoding(\"gpt2\")\n",
        "\n",
        "token_ids = generate_text_simple(\n",
        "    model = model,\n",
        "    idx = text_to_token_ids(start_context,tokenizer),\n",
        "    max_new_tokens = 10,\n",
        "    context_size = GPT_CONFIG_124M[\"context_length\"]\n",
        ")\n",
        "\n",
        "print(\"output: \", token_ids_to_text(token_ids, tokenizer))"
      ],
      "metadata": {
        "colab": {
          "base_uri": "https://localhost:8080/"
        },
        "id": "hFkSHO66M8ZJ",
        "outputId": "5f7d5dd5-af54-41e3-bd66-a2825812cdc5",
        "trusted": true,
        "execution": {
          "iopub.status.busy": "2025-04-03T08:20:10.385882Z",
          "iopub.execute_input": "2025-04-03T08:20:10.386227Z",
          "iopub.status.idle": "2025-04-03T08:20:12.772030Z",
          "shell.execute_reply.started": "2025-04-03T08:20:10.386197Z",
          "shell.execute_reply": "2025-04-03T08:20:12.771215Z"
        }
      },
      "outputs": [
        {
          "output_type": "stream",
          "name": "stdout",
          "text": [
            "output:  Every effort moves you rentingetic wasnم refres RexMeCHicular stren\n"
          ]
        }
      ],
      "execution_count": null
    },
    {
      "cell_type": "markdown",
      "source": [
        "## Splitting into train data and validation data"
      ],
      "metadata": {
        "id": "YVYqJEUvSHe6"
      }
    },
    {
      "cell_type": "code",
      "source": [
        "file_path = \"/content/LLM_From_Scratch/dataset1.txt\"\n",
        "with open(file_path, \"r\" , encoding = \"utf-8\") as file:\n",
        "  text_data = file.read()"
      ],
      "metadata": {
        "id": "JVKORVRKSdVs",
        "trusted": true,
        "execution": {
          "iopub.status.busy": "2025-04-03T08:20:44.413304Z",
          "iopub.execute_input": "2025-04-03T08:20:44.413591Z",
          "iopub.status.idle": "2025-04-03T08:20:44.428122Z",
          "shell.execute_reply.started": "2025-04-03T08:20:44.413568Z",
          "shell.execute_reply": "2025-04-03T08:20:44.427390Z"
        }
      },
      "outputs": [],
      "execution_count": null
    },
    {
      "cell_type": "code",
      "source": [
        "total_characters = len(text_data)\n",
        "total_tokens = len(tokenizer.encode(text_data))\n",
        "print(total_characters)\n",
        "print(total_tokens)"
      ],
      "metadata": {
        "colab": {
          "base_uri": "https://localhost:8080/"
        },
        "id": "4ncI-ZsNSLLB",
        "outputId": "ab10a22e-b24c-4e0b-9899-87f7d481402b",
        "trusted": true,
        "execution": {
          "iopub.status.busy": "2025-04-03T08:20:46.749838Z",
          "iopub.execute_input": "2025-04-03T08:20:46.750192Z",
          "iopub.status.idle": "2025-04-03T08:20:46.944155Z",
          "shell.execute_reply.started": "2025-04-03T08:20:46.750165Z",
          "shell.execute_reply": "2025-04-03T08:20:46.943365Z"
        }
      },
      "outputs": [
        {
          "output_type": "stream",
          "name": "stdout",
          "text": [
            "1606258\n",
            "437696\n"
          ]
        }
      ],
      "execution_count": null
    },
    {
      "cell_type": "code",
      "source": [
        "train_ratio = 0.9\n",
        "split_idx = int(train_ratio * len(text_data))\n",
        "train_data = text_data[:split_idx]\n",
        "val_data = text_data[split_idx:]\n"
      ],
      "metadata": {
        "id": "SMLqaZeHR646",
        "trusted": true,
        "execution": {
          "iopub.status.busy": "2025-04-03T08:20:49.023778Z",
          "iopub.execute_input": "2025-04-03T08:20:49.024084Z",
          "iopub.status.idle": "2025-04-03T08:20:49.028760Z",
          "shell.execute_reply.started": "2025-04-03T08:20:49.024059Z",
          "shell.execute_reply": "2025-04-03T08:20:49.027900Z"
        }
      },
      "outputs": [],
      "execution_count": null
    },
    {
      "cell_type": "markdown",
      "source": [
        "## Creating dataloader"
      ],
      "metadata": {
        "id": "d18YoMVHSkdj"
      }
    },
    {
      "cell_type": "code",
      "source": [
        "train_loader = create_dataloader_v1(\n",
        "    train_data,\n",
        "    batch_size = 16,\n",
        "    max_length = GPT_CONFIG_124M['context_length'],\n",
        "    stride = GPT_CONFIG_124M['context_length'],\n",
        "    drop_last = True,\n",
        "    shuffle = True,\n",
        "    num_workers = 0\n",
        ")\n",
        "\n",
        "val_loader = create_dataloader_v1(\n",
        "    val_data,\n",
        "    batch_size = 16,\n",
        "    max_length = GPT_CONFIG_124M['context_length'],\n",
        "    stride = GPT_CONFIG_124M['context_length'],\n",
        "    drop_last = False,\n",
        "    shuffle = False,\n",
        "    num_workers = 0\n",
        ")"
      ],
      "metadata": {
        "id": "WPjRCByfStq4",
        "trusted": true,
        "execution": {
          "iopub.status.busy": "2025-04-03T08:20:51.482104Z",
          "iopub.execute_input": "2025-04-03T08:20:51.482397Z",
          "iopub.status.idle": "2025-04-03T08:20:51.827870Z",
          "shell.execute_reply.started": "2025-04-03T08:20:51.482375Z",
          "shell.execute_reply": "2025-04-03T08:20:51.827228Z"
        }
      },
      "outputs": [],
      "execution_count": null
    },
    {
      "cell_type": "code",
      "source": [
        "print(\"Train loader: \")\n",
        "c = 0\n",
        "for x,y in train_loader:\n",
        "  c += 1\n",
        "print(\"Number of training batches: \", c)\n",
        "\n",
        "c = 0\n",
        "print(\"Val loader: \")\n",
        "for x,y in val_loader:\n",
        "  c += 1\n",
        "print(\"Number of validation batches: \",c)\n",
        "\n"
      ],
      "metadata": {
        "colab": {
          "base_uri": "https://localhost:8080/"
        },
        "id": "hI1jGzuhSt67",
        "outputId": "e3b2038c-c180-4b8a-9a51-41753f87be4c",
        "trusted": true,
        "execution": {
          "iopub.status.busy": "2025-04-03T08:20:54.564840Z",
          "iopub.execute_input": "2025-04-03T08:20:54.565158Z",
          "iopub.status.idle": "2025-04-03T08:20:54.586417Z",
          "shell.execute_reply.started": "2025-04-03T08:20:54.565133Z",
          "shell.execute_reply": "2025-04-03T08:20:54.585705Z"
        }
      },
      "outputs": [
        {
          "output_type": "stream",
          "name": "stdout",
          "text": [
            "Train loader: \n",
            "Number of training batches:  95\n",
            "Val loader: \n",
            "Number of validation batches:  11\n"
          ]
        }
      ],
      "execution_count": null
    },
    {
      "cell_type": "markdown",
      "source": [
        "## Functions to calculate loss"
      ],
      "metadata": {
        "id": "EeA7n-1JTb1F"
      }
    },
    {
      "cell_type": "code",
      "source": [
        "def calc_loss_batch(input_batch, target_batch, model, device):\n",
        "  input_batch = input_batch.to(device)\n",
        "  target_batch = target_batch.to(device)\n",
        "  logits = model(input_batch)\n",
        "  loss = torch.nn.functional.cross_entropy(\n",
        "      logits.flatten(0,1), target_batch.flatten()\n",
        "  )\n",
        "  return loss\n"
      ],
      "metadata": {
        "id": "bjAu9ngqTzcu",
        "trusted": true,
        "execution": {
          "iopub.status.busy": "2025-04-03T08:20:58.459066Z",
          "iopub.execute_input": "2025-04-03T08:20:58.459351Z",
          "iopub.status.idle": "2025-04-03T08:20:58.463751Z",
          "shell.execute_reply.started": "2025-04-03T08:20:58.459328Z",
          "shell.execute_reply": "2025-04-03T08:20:58.462750Z"
        }
      },
      "outputs": [],
      "execution_count": null
    },
    {
      "cell_type": "code",
      "source": [
        "# function to compute training and val loss\n",
        "\n",
        "def calc_loss_loader(data_loader, model, device, num_batches = None):\n",
        "  total_loss = 0.\n",
        "  if len(data_loader) == 0:\n",
        "    return float(\"nan\")\n",
        "  elif num_batches is None:\n",
        "    num_batches = len(data_loader)\n",
        "  else:\n",
        "    num_batches = min(num_batches, len(data_loader))\n",
        "\n",
        "  for i, (input_batch, target_batch) in enumerate(data_loader):\n",
        "    if i < num_batches:\n",
        "      loss = calc_loss_batch(\n",
        "          input_batch,target_batch,model,device\n",
        "      )\n",
        "      total_loss += loss.item()\n",
        "    else:\n",
        "      break\n",
        "\n",
        "  return total_loss / num_batches"
      ],
      "metadata": {
        "id": "LuS6AB6yUsTO",
        "trusted": true,
        "execution": {
          "iopub.status.busy": "2025-04-03T08:20:59.216306Z",
          "iopub.execute_input": "2025-04-03T08:20:59.216591Z",
          "iopub.status.idle": "2025-04-03T08:20:59.221562Z",
          "shell.execute_reply.started": "2025-04-03T08:20:59.216568Z",
          "shell.execute_reply": "2025-04-03T08:20:59.220755Z"
        }
      },
      "outputs": [],
      "execution_count": null
    },
    {
      "cell_type": "markdown",
      "source": [
        "## Chossing CUDA if available"
      ],
      "metadata": {
        "id": "1tp1qoFnT4m9"
      }
    },
    {
      "cell_type": "code",
      "source": [
        "device = torch.device(\"cuda\" if torch.cuda.is_available() else \"cpu\")\n",
        "model.to(device)\n",
        "with torch.no_grad():\n",
        " train_loss = calc_loss_loader(train_loader, model, device)\n",
        " val_loss = calc_loss_loader(val_loader, model, device)\n",
        "print(\"Training loss:\", train_loss)\n",
        "print(\"Validation loss:\", val_loss)"
      ],
      "metadata": {
        "id": "kvJ8e4oBT2En",
        "colab": {
          "base_uri": "https://localhost:8080/"
        },
        "outputId": "ed6326f3-9242-4256-aa2c-bb3cabd20aa1",
        "trusted": true,
        "execution": {
          "iopub.status.busy": "2025-04-03T08:21:01.902214Z",
          "iopub.execute_input": "2025-04-03T08:21:01.902501Z",
          "iopub.status.idle": "2025-04-03T08:21:22.382531Z",
          "shell.execute_reply.started": "2025-04-03T08:21:01.902480Z",
          "shell.execute_reply": "2025-04-03T08:21:22.381609Z"
        }
      },
      "outputs": [
        {
          "output_type": "stream",
          "name": "stdout",
          "text": [
            "Training loss: 10.98212187917609\n",
            "Validation loss: 10.966888080943715\n"
          ]
        }
      ],
      "execution_count": null
    },
    {
      "cell_type": "markdown",
      "source": [
        "## Training the model on dataset1.txt"
      ],
      "metadata": {
        "id": "yyK2nwsZWNub"
      }
    },
    {
      "cell_type": "code",
      "source": [
        "# main function for pretraining LLMs\n",
        "\n",
        "def train_model_simple(model, train_loader, val_loader, optimizer, device,\n",
        "                      num_epochs, eval_freq, eval_iter, start_context, tokenizer):\n",
        "  train_losses, val_losses, track_tokens_seen = [], [], []\n",
        "  tokens_seen, global_step = 0, -1            #  initalising lists to store the losses\n",
        "  for epoch in range(num_epochs):  # starting of the iteration process\n",
        "    model.train()\n",
        "\n",
        "    for input_batch, target_batch in train_loader:\n",
        "      optimizer.zero_grad()     #  resets the loss gradient from previous epochs\n",
        "\n",
        "      loss = calc_loss_batch(\n",
        "          input_batch, target_batch, model, device\n",
        "      )\n",
        "\n",
        "      loss.backward()  # calculatesthe loss gradient\n",
        "      optimizer.step()  # upodates the model weights using loss gradients\n",
        "      tokens_seen += input_batch.numel()\n",
        "      global_step += 1\n",
        "\n",
        "      if global_step % eval_freq == 0:  # optional evaluation step\n",
        "        train_loss, eval_loss = evaluate_model(\n",
        "            model, train_loader, val_loader, device, eval_iter\n",
        "        )\n",
        "        train_losses.append(train_loss)\n",
        "        val_losses.append(eval_loss)\n",
        "        track_tokens_seen.append(tokens_seen)\n",
        "        print(f\"Ep {epoch+1} (Step {global_step:06d}): \"\n",
        "              f\"Train loss {train_loss:.3f}, \"\n",
        "              f\"Val loss {eval_loss:.3f}\"\n",
        "              )\n",
        "    generate_and_print_sample(model, tokenizer, device, start_context)  # prints sample text aafter each epoch\n",
        "\n",
        "  return train_losses, val_losses, track_tokens_seen\n"
      ],
      "metadata": {
        "id": "27AuofUdUH7k",
        "trusted": true,
        "execution": {
          "iopub.status.busy": "2025-04-03T08:21:31.054217Z",
          "iopub.execute_input": "2025-04-03T08:21:31.054520Z",
          "iopub.status.idle": "2025-04-03T08:21:31.060593Z",
          "shell.execute_reply.started": "2025-04-03T08:21:31.054497Z",
          "shell.execute_reply": "2025-04-03T08:21:31.059662Z"
        }
      },
      "outputs": [],
      "execution_count": null
    },
    {
      "cell_type": "code",
      "source": [
        "# defining evaluate_model\n",
        "\n",
        "# this corresponds to step 7 in the figure where we print the lossees to avaluate the performance of training the model\n",
        "\n",
        "def evaluate_model(model, train_loader, val_loader, device, eval_iter):\n",
        "  model.eval() # Dropout is disable during the evaluation process for stable reslts\n",
        "  with torch.no_grad():\n",
        "    train_loss = calc_loss_loader( # disables gradient tracking because we dont need it in evaluation\n",
        "        train_loader, model, device, num_batches = eval_iter\n",
        "    )\n",
        "    val_loss = calc_loss_loader(\n",
        "        val_loader, model, device, num_batches=eval_iter\n",
        "    )\n",
        "\n",
        "  model.train()\n",
        "  return train_loss, val_loss"
      ],
      "metadata": {
        "id": "z68f0RMxT7-X",
        "trusted": true,
        "execution": {
          "iopub.status.busy": "2025-04-03T08:21:33.688681Z",
          "iopub.execute_input": "2025-04-03T08:21:33.689012Z",
          "iopub.status.idle": "2025-04-03T08:21:33.693544Z",
          "shell.execute_reply.started": "2025-04-03T08:21:33.688983Z",
          "shell.execute_reply": "2025-04-03T08:21:33.692508Z"
        }
      },
      "outputs": [],
      "execution_count": null
    },
    {
      "cell_type": "code",
      "source": [
        "# generate_and_print_sample function takes a text snippet and converts it into token ids and feed it to model to generate a text\n",
        "\n",
        "def generate_and_print_sample(model, tokenizer, device, start_context):\n",
        "  model.eval()\n",
        "  context_size = model.pos_emb.weight.shape[0]\n",
        "  encoded = text_to_token_ids(start_context, tokenizer).to(device)\n",
        "  with torch.no_grad():\n",
        "    token_ids = generate_text_simple(\n",
        "        model = model,\n",
        "        idx = encoded,\n",
        "        max_new_tokens = 50, context_size = context_size\n",
        "    )\n",
        "\n",
        "  decoded_text = token_ids_to_text(token_ids, tokenizer)\n",
        "  print(decoded_text.replace(\"\\n\", \" \"))\n",
        "  model.train()"
      ],
      "metadata": {
        "id": "mWFJ7kjZWS2-",
        "trusted": true,
        "execution": {
          "iopub.status.busy": "2025-04-03T08:21:34.324626Z",
          "iopub.execute_input": "2025-04-03T08:21:34.324970Z",
          "iopub.status.idle": "2025-04-03T08:21:34.330113Z",
          "shell.execute_reply.started": "2025-04-03T08:21:34.324916Z",
          "shell.execute_reply": "2025-04-03T08:21:34.329198Z"
        }
      },
      "outputs": [],
      "execution_count": null
    },
    {
      "cell_type": "markdown",
      "source": [
        "### Training for 7 epochs"
      ],
      "metadata": {
        "id": "Ah9Dd4NvrLHW"
      }
    },
    {
      "cell_type": "code",
      "source": [
        "# trainng the GPTModel for 10 epochs\n",
        "\n",
        "torch.manual_seed(123)\n",
        "model = GPTModel(GPT_CONFIG_124M)\n",
        "model.to(device)\n",
        "optimizer = torch.optim.AdamW(\n",
        "    model.parameters(), lr = 0.0004, weight_decay = 0.1\n",
        ")\n",
        "num_epochs = 7\n",
        "train_losses, val_losses, tokens_seen = train_model_simple(\n",
        "    model, train_loader, val_loader, optimizer, device, num_epochs = num_epochs, eval_freq = 5, eval_iter = 5,\n",
        "    start_context = \"Every effort moves you\", tokenizer = tokenizer\n",
        ")\n"
      ],
      "metadata": {
        "trusted": true,
        "execution": {
          "iopub.status.busy": "2025-04-03T09:36:10.692199Z",
          "iopub.execute_input": "2025-04-03T09:36:10.692506Z",
          "iopub.status.idle": "2025-04-03T09:51:29.101910Z",
          "shell.execute_reply.started": "2025-04-03T09:36:10.692478Z",
          "shell.execute_reply": "2025-04-03T09:51:29.101085Z"
        },
        "colab": {
          "base_uri": "https://localhost:8080/"
        },
        "id": "Uc6QEkC6E5Nj",
        "outputId": "937fb9fd-4704-4039-a779-b323cf454a3a"
      },
      "outputs": [
        {
          "output_type": "stream",
          "name": "stdout",
          "text": [
            "Ep 1 (Step 000000): Train loss 9.431, Val loss 9.543\n",
            "Ep 1 (Step 000005): Train loss 7.721, Val loss 7.750\n",
            "Ep 1 (Step 000010): Train loss 6.662, Val loss 6.652\n",
            "Ep 1 (Step 000015): Train loss 6.203, Val loss 6.238\n",
            "Ep 1 (Step 000020): Train loss 6.217, Val loss 6.145\n",
            "Ep 1 (Step 000025): Train loss 6.017, Val loss 6.095\n",
            "Ep 1 (Step 000030): Train loss 5.999, Val loss 5.995\n",
            "Ep 1 (Step 000035): Train loss 5.898, Val loss 5.894\n",
            "Ep 1 (Step 000040): Train loss 5.650, Val loss 5.827\n",
            "Ep 1 (Step 000045): Train loss 5.796, Val loss 5.739\n",
            "Ep 1 (Step 000050): Train loss 5.523, Val loss 5.666\n",
            "Ep 1 (Step 000055): Train loss 5.496, Val loss 5.631\n",
            "Ep 1 (Step 000060): Train loss 5.499, Val loss 5.545\n",
            "Ep 1 (Step 000065): Train loss 5.411, Val loss 5.506\n",
            "Ep 1 (Step 000070): Train loss 5.328, Val loss 5.468\n",
            "Ep 1 (Step 000075): Train loss 5.285, Val loss 5.405\n",
            "Ep 1 (Step 000080): Train loss 5.278, Val loss 5.372\n",
            "Ep 1 (Step 000085): Train loss 5.210, Val loss 5.313\n",
            "Ep 1 (Step 000090): Train loss 5.216, Val loss 5.309\n",
            "Every effort moves you have been          “I have been a little to be very                   “I am.“I am\n",
            "Ep 2 (Step 000095): Train loss 4.940, Val loss 5.266\n",
            "Ep 2 (Step 000100): Train loss 5.068, Val loss 5.263\n",
            "Ep 2 (Step 000105): Train loss 5.084, Val loss 5.239\n",
            "Ep 2 (Step 000110): Train loss 5.026, Val loss 5.208\n",
            "Ep 2 (Step 000115): Train loss 5.047, Val loss 5.191\n",
            "Ep 2 (Step 000120): Train loss 4.874, Val loss 5.169\n",
            "Ep 2 (Step 000125): Train loss 4.930, Val loss 5.165\n",
            "Ep 2 (Step 000130): Train loss 4.936, Val loss 5.138\n",
            "Ep 2 (Step 000135): Train loss 4.822, Val loss 5.121\n",
            "Ep 2 (Step 000140): Train loss 4.859, Val loss 5.143\n",
            "Ep 2 (Step 000145): Train loss 4.754, Val loss 5.108\n",
            "Ep 2 (Step 000150): Train loss 4.783, Val loss 5.073\n",
            "Ep 2 (Step 000155): Train loss 4.656, Val loss 5.062\n",
            "Ep 2 (Step 000160): Train loss 4.822, Val loss 5.046\n",
            "Ep 2 (Step 000165): Train loss 4.689, Val loss 5.048\n",
            "Ep 2 (Step 000170): Train loss 4.581, Val loss 5.043\n",
            "Ep 2 (Step 000175): Train loss 4.658, Val loss 5.014\n",
            "Ep 2 (Step 000180): Train loss 4.640, Val loss 4.997\n",
            "Ep 2 (Step 000185): Train loss 4.587, Val loss 4.989\n",
            "Every effort moves you have been and I am not be and I have been and I am not to the and I amiable.              “I am not to be in the other\n",
            "Ep 3 (Step 000190): Train loss 4.465, Val loss 4.987\n",
            "Ep 3 (Step 000195): Train loss 4.461, Val loss 4.971\n",
            "Ep 3 (Step 000200): Train loss 4.350, Val loss 4.976\n",
            "Ep 3 (Step 000205): Train loss 4.348, Val loss 4.970\n",
            "Ep 3 (Step 000210): Train loss 4.586, Val loss 4.985\n",
            "Ep 3 (Step 000215): Train loss 4.479, Val loss 4.955\n",
            "Ep 3 (Step 000220): Train loss 4.458, Val loss 4.955\n",
            "Ep 3 (Step 000225): Train loss 4.382, Val loss 4.956\n",
            "Ep 3 (Step 000230): Train loss 4.521, Val loss 4.947\n",
            "Ep 3 (Step 000235): Train loss 4.381, Val loss 4.931\n",
            "Ep 3 (Step 000240): Train loss 4.328, Val loss 4.920\n",
            "Ep 3 (Step 000245): Train loss 4.456, Val loss 4.910\n",
            "Ep 3 (Step 000250): Train loss 4.308, Val loss 4.913\n",
            "Ep 3 (Step 000255): Train loss 4.236, Val loss 4.920\n",
            "Ep 3 (Step 000260): Train loss 4.251, Val loss 4.892\n",
            "Ep 3 (Step 000265): Train loss 4.252, Val loss 4.884\n",
            "Ep 3 (Step 000270): Train loss 4.258, Val loss 4.894\n",
            "Ep 3 (Step 000275): Train loss 4.188, Val loss 4.889\n",
            "Ep 3 (Step 000280): Train loss 4.156, Val loss 4.849\n",
            "Every effort moves you, and I have been to be a little to be a to be a little longer.”  “I am sure,” said Joe, “I am sure,”  “I am\n",
            "Ep 4 (Step 000285): Train loss 4.138, Val loss 4.851\n",
            "Ep 4 (Step 000290): Train loss 4.141, Val loss 4.875\n",
            "Ep 4 (Step 000295): Train loss 4.197, Val loss 4.850\n",
            "Ep 4 (Step 000300): Train loss 4.039, Val loss 4.856\n",
            "Ep 4 (Step 000305): Train loss 4.038, Val loss 4.844\n",
            "Ep 4 (Step 000310): Train loss 4.162, Val loss 4.832\n",
            "Ep 4 (Step 000315): Train loss 3.882, Val loss 4.841\n",
            "Ep 4 (Step 000320): Train loss 3.963, Val loss 4.816\n",
            "Ep 4 (Step 000325): Train loss 3.846, Val loss 4.801\n",
            "Ep 4 (Step 000330): Train loss 4.045, Val loss 4.806\n",
            "Ep 4 (Step 000335): Train loss 3.866, Val loss 4.806\n",
            "Ep 4 (Step 000340): Train loss 3.886, Val loss 4.800\n",
            "Ep 4 (Step 000345): Train loss 3.886, Val loss 4.786\n",
            "Ep 4 (Step 000350): Train loss 3.875, Val loss 4.806\n",
            "Ep 4 (Step 000355): Train loss 3.873, Val loss 4.785\n",
            "Ep 4 (Step 000360): Train loss 3.824, Val loss 4.785\n",
            "Ep 4 (Step 000365): Train loss 3.789, Val loss 4.765\n",
            "Ep 4 (Step 000370): Train loss 3.772, Val loss 4.741\n",
            "Ep 4 (Step 000375): Train loss 3.705, Val loss 4.722\n",
            "Every effort moves you are not to be so much as to be of the other.”  “I am afraid you are to be so much to be so much as well.”  “I am afraid of the  \n",
            "Ep 5 (Step 000380): Train loss 3.664, Val loss 4.718\n",
            "Ep 5 (Step 000385): Train loss 3.595, Val loss 4.717\n",
            "Ep 5 (Step 000390): Train loss 3.749, Val loss 4.746\n",
            "Ep 5 (Step 000395): Train loss 3.605, Val loss 4.754\n",
            "Ep 5 (Step 000400): Train loss 3.533, Val loss 4.743\n",
            "Ep 5 (Step 000405): Train loss 3.486, Val loss 4.757\n",
            "Ep 5 (Step 000410): Train loss 3.547, Val loss 4.750\n",
            "Ep 5 (Step 000415): Train loss 3.379, Val loss 4.739\n",
            "Ep 5 (Step 000420): Train loss 3.522, Val loss 4.736\n",
            "Ep 5 (Step 000425): Train loss 3.508, Val loss 4.757\n",
            "Ep 5 (Step 000430): Train loss 3.342, Val loss 4.726\n",
            "Ep 5 (Step 000435): Train loss 3.372, Val loss 4.719\n",
            "Ep 5 (Step 000440): Train loss 3.378, Val loss 4.739\n",
            "Ep 5 (Step 000445): Train loss 3.304, Val loss 4.729\n",
            "Ep 5 (Step 000450): Train loss 3.302, Val loss 4.696\n",
            "Ep 5 (Step 000455): Train loss 3.299, Val loss 4.676\n",
            "Ep 5 (Step 000460): Train loss 3.310, Val loss 4.728\n",
            "Ep 5 (Step 000465): Train loss 3.310, Val loss 4.694\n",
            "Ep 5 (Step 000470): Train loss 3.260, Val loss 4.690\n",
            "Every effort moves you, and to be in the world of the world, and the other person, and the other man who had the other, and the other, and the of the world of the world, and the other, and the the\n",
            "Ep 6 (Step 000475): Train loss 3.162, Val loss 4.699\n",
            "Ep 6 (Step 000480): Train loss 3.150, Val loss 4.706\n",
            "Ep 6 (Step 000485): Train loss 3.114, Val loss 4.731\n",
            "Ep 6 (Step 000490): Train loss 3.164, Val loss 4.739\n",
            "Ep 6 (Step 000495): Train loss 3.097, Val loss 4.738\n",
            "Ep 6 (Step 000500): Train loss 3.013, Val loss 4.759\n",
            "Ep 6 (Step 000505): Train loss 2.950, Val loss 4.758\n",
            "Ep 6 (Step 000510): Train loss 2.989, Val loss 4.760\n",
            "Ep 6 (Step 000515): Train loss 2.932, Val loss 4.771\n",
            "Ep 6 (Step 000520): Train loss 2.946, Val loss 4.775\n",
            "Ep 6 (Step 000525): Train loss 2.916, Val loss 4.755\n",
            "Ep 6 (Step 000530): Train loss 2.954, Val loss 4.747\n",
            "Ep 6 (Step 000535): Train loss 2.886, Val loss 4.749\n",
            "Ep 6 (Step 000540): Train loss 2.946, Val loss 4.763\n",
            "Ep 6 (Step 000545): Train loss 2.876, Val loss 4.733\n",
            "Ep 6 (Step 000550): Train loss 2.840, Val loss 4.777\n",
            "Ep 6 (Step 000555): Train loss 2.738, Val loss 4.759\n",
            "Ep 6 (Step 000560): Train loss 2.743, Val loss 4.763\n",
            "Ep 6 (Step 000565): Train loss 2.731, Val loss 4.751\n",
            "Every effort moves you’t be.”  “I am not to be so,” said I, “and I have have been so, and I have been so dear me to-morrow with you, and I\n",
            "Ep 7 (Step 000570): Train loss 2.697, Val loss 4.763\n",
            "Ep 7 (Step 000575): Train loss 2.642, Val loss 4.793\n",
            "Ep 7 (Step 000580): Train loss 2.600, Val loss 4.820\n",
            "Ep 7 (Step 000585): Train loss 2.502, Val loss 4.847\n",
            "Ep 7 (Step 000590): Train loss 2.469, Val loss 4.847\n",
            "Ep 7 (Step 000595): Train loss 2.530, Val loss 4.842\n",
            "Ep 7 (Step 000600): Train loss 2.399, Val loss 4.850\n",
            "Ep 7 (Step 000605): Train loss 2.417, Val loss 4.872\n",
            "Ep 7 (Step 000610): Train loss 2.436, Val loss 4.863\n",
            "Ep 7 (Step 000615): Train loss 2.334, Val loss 4.899\n",
            "Ep 7 (Step 000620): Train loss 2.460, Val loss 4.905\n",
            "Ep 7 (Step 000625): Train loss 2.282, Val loss 4.893\n",
            "Ep 7 (Step 000630): Train loss 2.382, Val loss 4.879\n",
            "Ep 7 (Step 000635): Train loss 2.239, Val loss 4.916\n",
            "Ep 7 (Step 000640): Train loss 2.258, Val loss 4.870\n",
            "Ep 7 (Step 000645): Train loss 2.297, Val loss 4.912\n",
            "Ep 7 (Step 000650): Train loss 2.275, Val loss 4.900\n",
            "Ep 7 (Step 000655): Train loss 2.207, Val loss 4.892\n",
            "Ep 7 (Step 000660): Train loss 2.205, Val loss 4.865\n",
            "Every effort moves you know,” said Mr. Jaggers, “I’ll do with you not to you, and see him.”  “I said to, “I am sure,” said I, �\n"
          ]
        }
      ],
      "execution_count": null
    },
    {
      "cell_type": "code",
      "source": [
        "def plot_losses(epochs_seen, tokens_seen, train_losses, val_losses, num_epochs):\n",
        " fig, ax1 = plt.subplots(figsize=(5, 3))\n",
        " ax1.plot(epochs_seen, train_losses, label=\"Training loss\")\n",
        " ax1.plot(\n",
        " epochs_seen, val_losses, linestyle=\"-.\", label=\"Validation loss\"\n",
        " )\n",
        " ax1.set_xlabel(\"Epochs\")\n",
        " ax1.set_ylabel(\"Loss\")\n",
        " ax1.legend(loc=\"upper right\")\n",
        " ax1.xaxis.set_major_locator(MaxNLocator(integer=True))\n",
        "\n",
        " plt.title(f\"Model trained for {num_epochs} epochs\")\n",
        "\n",
        " ax2 = ax1.twiny()\n",
        " ax2.plot(tokens_seen, train_losses, alpha=0)\n",
        " ax2.set_xlabel(\"Tokens seen\")\n",
        " fig.tight_layout()\n",
        " plt.show()\n",
        "\n"
      ],
      "metadata": {
        "id": "oz-fUnZPGfA0"
      },
      "execution_count": null,
      "outputs": []
    },
    {
      "cell_type": "code",
      "source": [
        "\n",
        "epochs_tensor = torch.linspace(0, num_epochs, len(train_losses))\n",
        "plot_losses(epochs_tensor, tokens_seen, train_losses, val_losses,num_epochs)\n"
      ],
      "metadata": {
        "trusted": true,
        "execution": {
          "iopub.status.busy": "2025-04-03T09:51:29.104123Z",
          "iopub.execute_input": "2025-04-03T09:51:29.104346Z",
          "iopub.status.idle": "2025-04-03T09:51:29.529393Z",
          "shell.execute_reply.started": "2025-04-03T09:51:29.104327Z",
          "shell.execute_reply": "2025-04-03T09:51:29.528598Z"
        },
        "id": "6Wm2RvidE5Nj",
        "colab": {
          "base_uri": "https://localhost:8080/",
          "height": 306
        },
        "outputId": "990844d1-e339-4803-995d-651ece2ad1d0"
      },
      "outputs": [
        {
          "output_type": "display_data",
          "data": {
            "text/plain": [
              "<Figure size 500x300 with 2 Axes>"
            ],
            "image/png": "[encoded data removed]"
          },
          "metadata": {}
        }
      ],
      "execution_count": null
    },
    {
      "cell_type": "markdown",
      "source": [
        "## Function to geenrate text (Comprising of temperature and top k sampling)"
      ],
      "metadata": {
        "id": "j5vpi_dhrTYL"
      }
    },
    {
      "cell_type": "code",
      "source": [
        "model.to(\"cpu\")\n",
        "model.eval()"
      ],
      "metadata": {
        "id": "lPUim9tcrhIF",
        "trusted": true,
        "execution": {
          "iopub.status.busy": "2025-04-03T09:53:53.335098Z",
          "iopub.execute_input": "2025-04-03T09:53:53.335415Z",
          "iopub.status.idle": "2025-04-03T09:53:53.348733Z",
          "shell.execute_reply.started": "2025-04-03T09:53:53.335390Z",
          "shell.execute_reply": "2025-04-03T09:53:53.347580Z"
        },
        "colab": {
          "base_uri": "https://localhost:8080/"
        },
        "outputId": "36f635e8-8063-44a1-b95d-7869319172f8"
      },
      "outputs": [
        {
          "output_type": "execute_result",
          "data": {
            "text/plain": [
              "GPTModel(\n",
              "  (tok_emb): Embedding(50257, 768)\n",
              "  (pos_emb): Embedding(256, 768)\n",
              "  (drop_emb): Dropout(p=0.1, inplace=False)\n",
              "  (trf_blocks): Sequential(\n",
              "    (0): TransformerBlock(\n",
              "      (att): MultiHeadAttention(\n",
              "        (W_query): Linear(in_features=768, out_features=768, bias=False)\n",
              "        (W_key): Linear(in_features=768, out_features=768, bias=False)\n",
              "        (W_value): Linear(in_features=768, out_features=768, bias=False)\n",
              "        (out_proj): Linear(in_features=768, out_features=768, bias=True)\n",
              "        (dropout): Dropout(p=0.1, inplace=False)\n",
              "      )\n",
              "      (ff): FeedForward(\n",
              "        (layers): Sequential(\n",
              "          (0): Linear(in_features=768, out_features=3072, bias=True)\n",
              "          (1): GELU()\n",
              "          (2): Linear(in_features=3072, out_features=768, bias=True)\n",
              "        )\n",
              "      )\n",
              "      (norm1): LayerNorm()\n",
              "      (norm2): LayerNorm()\n",
              "      (drop_shortcut): Dropout(p=0.1, inplace=False)\n",
              "    )\n",
              "    (1): TransformerBlock(\n",
              "      (att): MultiHeadAttention(\n",
              "        (W_query): Linear(in_features=768, out_features=768, bias=False)\n",
              "        (W_key): Linear(in_features=768, out_features=768, bias=False)\n",
              "        (W_value): Linear(in_features=768, out_features=768, bias=False)\n",
              "        (out_proj): Linear(in_features=768, out_features=768, bias=True)\n",
              "        (dropout): Dropout(p=0.1, inplace=False)\n",
              "      )\n",
              "      (ff): FeedForward(\n",
              "        (layers): Sequential(\n",
              "          (0): Linear(in_features=768, out_features=3072, bias=True)\n",
              "          (1): GELU()\n",
              "          (2): Linear(in_features=3072, out_features=768, bias=True)\n",
              "        )\n",
              "      )\n",
              "      (norm1): LayerNorm()\n",
              "      (norm2): LayerNorm()\n",
              "      (drop_shortcut): Dropout(p=0.1, inplace=False)\n",
              "    )\n",
              "    (2): TransformerBlock(\n",
              "      (att): MultiHeadAttention(\n",
              "        (W_query): Linear(in_features=768, out_features=768, bias=False)\n",
              "        (W_key): Linear(in_features=768, out_features=768, bias=False)\n",
              "        (W_value): Linear(in_features=768, out_features=768, bias=False)\n",
              "        (out_proj): Linear(in_features=768, out_features=768, bias=True)\n",
              "        (dropout): Dropout(p=0.1, inplace=False)\n",
              "      )\n",
              "      (ff): FeedForward(\n",
              "        (layers): Sequential(\n",
              "          (0): Linear(in_features=768, out_features=3072, bias=True)\n",
              "          (1): GELU()\n",
              "          (2): Linear(in_features=3072, out_features=768, bias=True)\n",
              "        )\n",
              "      )\n",
              "      (norm1): LayerNorm()\n",
              "      (norm2): LayerNorm()\n",
              "      (drop_shortcut): Dropout(p=0.1, inplace=False)\n",
              "    )\n",
              "    (3): TransformerBlock(\n",
              "      (att): MultiHeadAttention(\n",
              "        (W_query): Linear(in_features=768, out_features=768, bias=False)\n",
              "        (W_key): Linear(in_features=768, out_features=768, bias=False)\n",
              "        (W_value): Linear(in_features=768, out_features=768, bias=False)\n",
              "        (out_proj): Linear(in_features=768, out_features=768, bias=True)\n",
              "        (dropout): Dropout(p=0.1, inplace=False)\n",
              "      )\n",
              "      (ff): FeedForward(\n",
              "        (layers): Sequential(\n",
              "          (0): Linear(in_features=768, out_features=3072, bias=True)\n",
              "          (1): GELU()\n",
              "          (2): Linear(in_features=3072, out_features=768, bias=True)\n",
              "        )\n",
              "      )\n",
              "      (norm1): LayerNorm()\n",
              "      (norm2): LayerNorm()\n",
              "      (drop_shortcut): Dropout(p=0.1, inplace=False)\n",
              "    )\n",
              "    (4): TransformerBlock(\n",
              "      (att): MultiHeadAttention(\n",
              "        (W_query): Linear(in_features=768, out_features=768, bias=False)\n",
              "        (W_key): Linear(in_features=768, out_features=768, bias=False)\n",
              "        (W_value): Linear(in_features=768, out_features=768, bias=False)\n",
              "        (out_proj): Linear(in_features=768, out_features=768, bias=True)\n",
              "        (dropout): Dropout(p=0.1, inplace=False)\n",
              "      )\n",
              "      (ff): FeedForward(\n",
              "        (layers): Sequential(\n",
              "          (0): Linear(in_features=768, out_features=3072, bias=True)\n",
              "          (1): GELU()\n",
              "          (2): Linear(in_features=3072, out_features=768, bias=True)\n",
              "        )\n",
              "      )\n",
              "      (norm1): LayerNorm()\n",
              "      (norm2): LayerNorm()\n",
              "      (drop_shortcut): Dropout(p=0.1, inplace=False)\n",
              "    )\n",
              "    (5): TransformerBlock(\n",
              "      (att): MultiHeadAttention(\n",
              "        (W_query): Linear(in_features=768, out_features=768, bias=False)\n",
              "        (W_key): Linear(in_features=768, out_features=768, bias=False)\n",
              "        (W_value): Linear(in_features=768, out_features=768, bias=False)\n",
              "        (out_proj): Linear(in_features=768, out_features=768, bias=True)\n",
              "        (dropout): Dropout(p=0.1, inplace=False)\n",
              "      )\n",
              "      (ff): FeedForward(\n",
              "        (layers): Sequential(\n",
              "          (0): Linear(in_features=768, out_features=3072, bias=True)\n",
              "          (1): GELU()\n",
              "          (2): Linear(in_features=3072, out_features=768, bias=True)\n",
              "        )\n",
              "      )\n",
              "      (norm1): LayerNorm()\n",
              "      (norm2): LayerNorm()\n",
              "      (drop_shortcut): Dropout(p=0.1, inplace=False)\n",
              "    )\n",
              "    (6): TransformerBlock(\n",
              "      (att): MultiHeadAttention(\n",
              "        (W_query): Linear(in_features=768, out_features=768, bias=False)\n",
              "        (W_key): Linear(in_features=768, out_features=768, bias=False)\n",
              "        (W_value): Linear(in_features=768, out_features=768, bias=False)\n",
              "        (out_proj): Linear(in_features=768, out_features=768, bias=True)\n",
              "        (dropout): Dropout(p=0.1, inplace=False)\n",
              "      )\n",
              "      (ff): FeedForward(\n",
              "        (layers): Sequential(\n",
              "          (0): Linear(in_features=768, out_features=3072, bias=True)\n",
              "          (1): GELU()\n",
              "          (2): Linear(in_features=3072, out_features=768, bias=True)\n",
              "        )\n",
              "      )\n",
              "      (norm1): LayerNorm()\n",
              "      (norm2): LayerNorm()\n",
              "      (drop_shortcut): Dropout(p=0.1, inplace=False)\n",
              "    )\n",
              "    (7): TransformerBlock(\n",
              "      (att): MultiHeadAttention(\n",
              "        (W_query): Linear(in_features=768, out_features=768, bias=False)\n",
              "        (W_key): Linear(in_features=768, out_features=768, bias=False)\n",
              "        (W_value): Linear(in_features=768, out_features=768, bias=False)\n",
              "        (out_proj): Linear(in_features=768, out_features=768, bias=True)\n",
              "        (dropout): Dropout(p=0.1, inplace=False)\n",
              "      )\n",
              "      (ff): FeedForward(\n",
              "        (layers): Sequential(\n",
              "          (0): Linear(in_features=768, out_features=3072, bias=True)\n",
              "          (1): GELU()\n",
              "          (2): Linear(in_features=3072, out_features=768, bias=True)\n",
              "        )\n",
              "      )\n",
              "      (norm1): LayerNorm()\n",
              "      (norm2): LayerNorm()\n",
              "      (drop_shortcut): Dropout(p=0.1, inplace=False)\n",
              "    )\n",
              "    (8): TransformerBlock(\n",
              "      (att): MultiHeadAttention(\n",
              "        (W_query): Linear(in_features=768, out_features=768, bias=False)\n",
              "        (W_key): Linear(in_features=768, out_features=768, bias=False)\n",
              "        (W_value): Linear(in_features=768, out_features=768, bias=False)\n",
              "        (out_proj): Linear(in_features=768, out_features=768, bias=True)\n",
              "        (dropout): Dropout(p=0.1, inplace=False)\n",
              "      )\n",
              "      (ff): FeedForward(\n",
              "        (layers): Sequential(\n",
              "          (0): Linear(in_features=768, out_features=3072, bias=True)\n",
              "          (1): GELU()\n",
              "          (2): Linear(in_features=3072, out_features=768, bias=True)\n",
              "        )\n",
              "      )\n",
              "      (norm1): LayerNorm()\n",
              "      (norm2): LayerNorm()\n",
              "      (drop_shortcut): Dropout(p=0.1, inplace=False)\n",
              "    )\n",
              "    (9): TransformerBlock(\n",
              "      (att): MultiHeadAttention(\n",
              "        (W_query): Linear(in_features=768, out_features=768, bias=False)\n",
              "        (W_key): Linear(in_features=768, out_features=768, bias=False)\n",
              "        (W_value): Linear(in_features=768, out_features=768, bias=False)\n",
              "        (out_proj): Linear(in_features=768, out_features=768, bias=True)\n",
              "        (dropout): Dropout(p=0.1, inplace=False)\n",
              "      )\n",
              "      (ff): FeedForward(\n",
              "        (layers): Sequential(\n",
              "          (0): Linear(in_features=768, out_features=3072, bias=True)\n",
              "          (1): GELU()\n",
              "          (2): Linear(in_features=3072, out_features=768, bias=True)\n",
              "        )\n",
              "      )\n",
              "      (norm1): LayerNorm()\n",
              "      (norm2): LayerNorm()\n",
              "      (drop_shortcut): Dropout(p=0.1, inplace=False)\n",
              "    )\n",
              "    (10): TransformerBlock(\n",
              "      (att): MultiHeadAttention(\n",
              "        (W_query): Linear(in_features=768, out_features=768, bias=False)\n",
              "        (W_key): Linear(in_features=768, out_features=768, bias=False)\n",
              "        (W_value): Linear(in_features=768, out_features=768, bias=False)\n",
              "        (out_proj): Linear(in_features=768, out_features=768, bias=True)\n",
              "        (dropout): Dropout(p=0.1, inplace=False)\n",
              "      )\n",
              "      (ff): FeedForward(\n",
              "        (layers): Sequential(\n",
              "          (0): Linear(in_features=768, out_features=3072, bias=True)\n",
              "          (1): GELU()\n",
              "          (2): Linear(in_features=3072, out_features=768, bias=True)\n",
              "        )\n",
              "      )\n",
              "      (norm1): LayerNorm()\n",
              "      (norm2): LayerNorm()\n",
              "      (drop_shortcut): Dropout(p=0.1, inplace=False)\n",
              "    )\n",
              "    (11): TransformerBlock(\n",
              "      (att): MultiHeadAttention(\n",
              "        (W_query): Linear(in_features=768, out_features=768, bias=False)\n",
              "        (W_key): Linear(in_features=768, out_features=768, bias=False)\n",
              "        (W_value): Linear(in_features=768, out_features=768, bias=False)\n",
              "        (out_proj): Linear(in_features=768, out_features=768, bias=True)\n",
              "        (dropout): Dropout(p=0.1, inplace=False)\n",
              "      )\n",
              "      (ff): FeedForward(\n",
              "        (layers): Sequential(\n",
              "          (0): Linear(in_features=768, out_features=3072, bias=True)\n",
              "          (1): GELU()\n",
              "          (2): Linear(in_features=3072, out_features=768, bias=True)\n",
              "        )\n",
              "      )\n",
              "      (norm1): LayerNorm()\n",
              "      (norm2): LayerNorm()\n",
              "      (drop_shortcut): Dropout(p=0.1, inplace=False)\n",
              "    )\n",
              "  )\n",
              "  (final_norm): LayerNorm()\n",
              "  (out_head): Linear(in_features=768, out_features=50257, bias=False)\n",
              ")"
            ]
          },
          "metadata": {},
          "execution_count": 23
        }
      ],
      "execution_count": null
    },
    {
      "cell_type": "code",
      "source": [
        "def generate(model, idx, max_new_tokens, context_size, temperature = 0.0, top_k = None, eos_id = None):\n",
        "  for _ in range(max_new_tokens):\n",
        "    idx_cond = idx[:,-context_size:]\n",
        "    with torch.no_grad():\n",
        "      logits = model(idx_cond)\n",
        "    logits = logits[:, -1, :]\n",
        "    if top_k is not None:\n",
        "      top_logits,_ = torch.topk(logits,top_k)\n",
        "      min_value = top_logits[:, -1]\n",
        "      logits = torch.where(\n",
        "          logits < min_value,\n",
        "          torch.tensor(float('-inf')).to(logits.device),\n",
        "          logits\n",
        "      )\n",
        "    if temperature > 0.0:\n",
        "      logits = logits / temperature\n",
        "      probs = torch.softmax(logits, dim = -1)\n",
        "      idx_next = torch.multinomial(probs, num_samples = 1)\n",
        "    else:\n",
        "      idx_next = torch.argmax(logits, dim = -1, keepdim = True)\n",
        "    if idx_next == eos_id:\n",
        "      break\n",
        "    idx = torch.cat((idx,idx_next), dim = -1)\n",
        "  return idx"
      ],
      "metadata": {
        "id": "3Y_TKwXwi9mp"
      },
      "outputs": [],
      "execution_count": null
    },
    {
      "cell_type": "code",
      "source": [
        "token_ids = generate(\n",
        "    model = model,\n",
        "    idx = text_to_token_ids(\"Hello, I am\", tokenizer),\n",
        "    max_new_tokens = 15,\n",
        "    context_size = GPT_CONFIG_124M['context_length'],\n",
        "    top_k = 25,\n",
        "    temperature = 1.4\n",
        ")\n",
        "print(\"output: \", token_ids_to_text(token_ids, tokenizer))"
      ],
      "metadata": {
        "id": "Kph__3ZxrmuO",
        "colab": {
          "base_uri": "https://localhost:8080/"
        },
        "outputId": "c14c68d7-4375-41e8-c74b-715917c4155f"
      },
      "outputs": [
        {
          "output_type": "stream",
          "name": "stdout",
          "text": [
            "output:  Hello, I am in dancing is, as you at\n",
            "be renewed.”\n",
            "\n",
            "\n"
          ]
        }
      ],
      "execution_count": null
    },
    {
      "cell_type": "markdown",
      "source": [
        "## Saving the model"
      ],
      "metadata": {
        "id": "VUxMQ0Jcx2-c"
      }
    },
    {
      "cell_type": "code",
      "source": [
        "torch.save({\n",
        "    \"epochs\": num_epochs,\n",
        "    \"model_state_dict\": model.state_dict(),\n",
        "    \"optimizer_state_dict\": optimizer.state_dict(),\n",
        "  },\n",
        "    \"model_and_optimizer.pth\"\n",
        ")"
      ],
      "metadata": {
        "id": "vMsVH37W2hWE"
      },
      "outputs": [],
      "execution_count": null
    },
    {
      "cell_type": "code",
      "source": [
        "checkpoint = torch.load(\"model_and_optimizer.pth\", map_location=device)\n",
        "model = GPTModel(GPT_CONFIG_124M)\n",
        "model.load_state_dict(checkpoint[\"model_state_dict\"])\n",
        "optimizer = torch.optim.AdamW(model.parameters(), lr=5e-4, weight_decay=0.1)\n",
        "optimizer.load_state_dict(checkpoint[\"optimizer_state_dict\"])\n",
        "model.train();"
      ],
      "metadata": {
        "id": "CgW4v6cF3bT7"
      },
      "outputs": [],
      "execution_count": null
    },
    {
      "cell_type": "markdown",
      "source": [
        "## Saving to Cloud"
      ],
      "metadata": {
        "id": "aedNSKQqx7i4"
      }
    },
    {
      "cell_type": "code",
      "source": [
        "from google.colab import drive\n",
        "drive.mount('/content/drive')"
      ],
      "metadata": {
        "id": "B003UongRM_Y",
        "colab": {
          "base_uri": "https://localhost:8080/"
        },
        "outputId": "4f376dde-1a2a-474a-b737-0a6691252a37"
      },
      "outputs": [
        {
          "output_type": "stream",
          "name": "stdout",
          "text": [
            "Mounted at /content/drive\n"
          ]
        }
      ],
      "execution_count": null
    },
    {
      "cell_type": "code",
      "source": [
        "torch.save({\n",
        "    \"epochs\": num_epochs,\n",
        "    \"model_state_dict\": model.state_dict(),\n",
        "    \"optimizer_state_dict\": optimizer.state_dict(),\n",
        "}, \"/content/drive/MyDrive/model_and_optimizer.pth\")"
      ],
      "metadata": {
        "id": "oAIiIOmM2ctV"
      },
      "outputs": [],
      "execution_count": null
    },
    {
      "cell_type": "markdown",
      "source": [
        "## loading from cload and testing"
      ],
      "metadata": {
        "id": "PpCNUEyHTWEi"
      }
    },
    {
      "cell_type": "code",
      "source": [
        "!git clone https://github.com/Bhavya171/LLM_From_Scratch"
      ],
      "metadata": {
        "colab": {
          "base_uri": "https://localhost:8080/"
        },
        "outputId": "c70486bf-27be-4116-dfd8-68945edae716",
        "trusted": true,
        "execution": {
          "iopub.status.busy": "2025-04-03T08:19:11.439627Z",
          "iopub.execute_input": "2025-04-03T08:19:11.439916Z",
          "iopub.status.idle": "2025-04-03T08:19:12.623540Z",
          "shell.execute_reply.started": "2025-04-03T08:19:11.439883Z",
          "shell.execute_reply": "2025-04-03T08:19:12.622487Z"
        },
        "id": "uieu_7YzTpyb"
      },
      "outputs": [
        {
          "output_type": "stream",
          "name": "stdout",
          "text": [
            "Cloning into 'LLM_From_Scratch'...\n",
            "remote: Enumerating objects: 60, done.\u001b[K\n",
            "remote: Counting objects: 100% (60/60), done.\u001b[K\n",
            "remote: Compressing objects: 100% (57/57), done.\u001b[K\n",
            "remote: Total 60 (delta 24), reused 4 (delta 1), pack-reused 0 (from 0)\u001b[K\n",
            "Receiving objects: 100% (60/60), 2.06 MiB | 5.09 MiB/s, done.\n",
            "Resolving deltas: 100% (24/24), done.\n"
          ]
        }
      ],
      "execution_count": null
    },
    {
      "cell_type": "code",
      "source": [
        "%cd LLM_From_Scratch"
      ],
      "metadata": {
        "colab": {
          "base_uri": "https://localhost:8080/"
        },
        "outputId": "cd0364ab-1792-4352-e47e-2962b78e41ef",
        "trusted": true,
        "execution": {
          "iopub.status.busy": "2025-04-03T08:19:42.682775Z",
          "iopub.execute_input": "2025-04-03T08:19:42.683111Z",
          "iopub.status.idle": "2025-04-03T08:19:42.688597Z",
          "shell.execute_reply.started": "2025-04-03T08:19:42.683082Z",
          "shell.execute_reply": "2025-04-03T08:19:42.687673Z"
        },
        "id": "kw9BXdTbTpyd"
      },
      "outputs": [
        {
          "output_type": "stream",
          "name": "stdout",
          "text": [
            "/content/LLM_From_Scratch\n"
          ]
        }
      ],
      "execution_count": null
    },
    {
      "cell_type": "code",
      "source": [
        "!pip install tiktoken"
      ],
      "metadata": {
        "colab": {
          "base_uri": "https://localhost:8080/"
        },
        "outputId": "1d103d73-1c5b-49e7-ff9a-31c024587e47",
        "trusted": true,
        "execution": {
          "iopub.status.busy": "2025-04-03T08:19:52.207123Z",
          "iopub.execute_input": "2025-04-03T08:19:52.207423Z",
          "iopub.status.idle": "2025-04-03T08:19:56.338900Z",
          "shell.execute_reply.started": "2025-04-03T08:19:52.207401Z",
          "shell.execute_reply": "2025-04-03T08:19:56.338073Z"
        },
        "id": "Y7tUQ0ArTpye"
      },
      "outputs": [
        {
          "output_type": "stream",
          "name": "stdout",
          "text": [
            "Requirement already satisfied: tiktoken in /usr/local/lib/python3.11/dist-packages (0.9.0)\n",
            "Requirement already satisfied: regex>=2022.1.18 in /usr/local/lib/python3.11/dist-packages (from tiktoken) (2024.11.6)\n",
            "Requirement already satisfied: requests>=2.26.0 in /usr/local/lib/python3.11/dist-packages (from tiktoken) (2.32.3)\n",
            "Requirement already satisfied: charset-normalizer<4,>=2 in /usr/local/lib/python3.11/dist-packages (from requests>=2.26.0->tiktoken) (3.4.1)\n",
            "Requirement already satisfied: idna<4,>=2.5 in /usr/local/lib/python3.11/dist-packages (from requests>=2.26.0->tiktoken) (3.10)\n",
            "Requirement already satisfied: urllib3<3,>=1.21.1 in /usr/local/lib/python3.11/dist-packages (from requests>=2.26.0->tiktoken) (2.3.0)\n",
            "Requirement already satisfied: certifi>=2017.4.17 in /usr/local/lib/python3.11/dist-packages (from requests>=2.26.0->tiktoken) (2025.1.31)\n"
          ]
        }
      ],
      "execution_count": null
    },
    {
      "cell_type": "code",
      "source": [
        "\n",
        "\n",
        "GPT_CONFIG_124M = {\n",
        "    \"vocab_size\": 50257,\n",
        "    \"context_length\": 256,\n",
        "    \"emb_dim\": 768,\n",
        "    \"n_heads\": 12,\n",
        "    \"n_layers\": 12,\n",
        "    \"drop_rate\": 0.1,\n",
        "    \"qkv_bias\": False\n",
        "}\n",
        "\n"
      ],
      "metadata": {
        "id": "aVYXSc73UWTL"
      },
      "execution_count": null,
      "outputs": []
    },
    {
      "cell_type": "code",
      "source": [
        "import torch\n",
        "import tiktoken\n",
        "from previous_chapters import GPTModel\n",
        "from previous_chapters import generate_text_simple"
      ],
      "metadata": {
        "id": "z5L_NqUJTY6h"
      },
      "execution_count": null,
      "outputs": []
    },
    {
      "cell_type": "code",
      "source": [
        "!pip install --upgrade --no-cache-dir gdown\n",
        "!gdown --id 1g-CgaIaFtRfTFkIhTmt_HRVwSDheSUNN -O model_and_optimizer.pth"
      ],
      "metadata": {
        "colab": {
          "base_uri": "https://localhost:8080/"
        },
        "id": "t4ct0nXqS-JD",
        "outputId": "0e2876b1-8a3e-4da1-b773-d89925b7fa0e"
      },
      "execution_count": null,
      "outputs": [
        {
          "output_type": "stream",
          "name": "stdout",
          "text": [
            "Requirement already satisfied: gdown in /usr/local/lib/python3.11/dist-packages (5.2.0)\n",
            "Requirement already satisfied: beautifulsoup4 in /usr/local/lib/python3.11/dist-packages (from gdown) (4.13.3)\n",
            "Requirement already satisfied: filelock in /usr/local/lib/python3.11/dist-packages (from gdown) (3.18.0)\n",
            "Requirement already satisfied: requests[socks] in /usr/local/lib/python3.11/dist-packages (from gdown) (2.32.3)\n",
            "Requirement already satisfied: tqdm in /usr/local/lib/python3.11/dist-packages (from gdown) (4.67.1)\n",
            "Requirement already satisfied: soupsieve>1.2 in /usr/local/lib/python3.11/dist-packages (from beautifulsoup4->gdown) (2.6)\n",
            "Requirement already satisfied: typing-extensions>=4.0.0 in /usr/local/lib/python3.11/dist-packages (from beautifulsoup4->gdown) (4.13.0)\n",
            "Requirement already satisfied: charset-normalizer<4,>=2 in /usr/local/lib/python3.11/dist-packages (from requests[socks]->gdown) (3.4.1)\n",
            "Requirement already satisfied: idna<4,>=2.5 in /usr/local/lib/python3.11/dist-packages (from requests[socks]->gdown) (3.10)\n",
            "Requirement already satisfied: urllib3<3,>=1.21.1 in /usr/local/lib/python3.11/dist-packages (from requests[socks]->gdown) (2.3.0)\n",
            "Requirement already satisfied: certifi>=2017.4.17 in /usr/local/lib/python3.11/dist-packages (from requests[socks]->gdown) (2025.1.31)\n",
            "Requirement already satisfied: PySocks!=1.5.7,>=1.5.6 in /usr/local/lib/python3.11/dist-packages (from requests[socks]->gdown) (1.7.1)\n",
            "/usr/local/lib/python3.11/dist-packages/gdown/__main__.py:140: FutureWarning: Option `--id` was deprecated in version 4.3.1 and will be removed in 5.0. You don't need to pass it anymore to use a file ID.\n",
            "  warnings.warn(\n",
            "Downloading...\n",
            "From (original): https://drive.google.com/uc?id=1g-CgaIaFtRfTFkIhTmt_HRVwSDheSUNN\n",
            "From (redirected): https://drive.google.com/uc?id=1g-CgaIaFtRfTFkIhTmt_HRVwSDheSUNN&confirm=t&uuid=ad20a703-06a6-45fd-84c8-5f0acc3efa4b\n",
            "To: /content/LLM_From_Scratch/model_and_optimizer.pth\n",
            "100% 1.95G/1.95G [00:15<00:00, 122MB/s]\n"
          ]
        }
      ]
    },
    {
      "cell_type": "code",
      "source": [
        "  # Importing the model architecture\n",
        "\n",
        "model = GPTModel(GPT_CONFIG_124M)\n",
        "\n",
        "checkpoint = torch.load(\"model_and_optimizer.pth\", map_location=\"cuda\", weights_only=False)  # Change to \"cpu\" if needed\n",
        "model.load_state_dict(checkpoint[\"model_state_dict\"])\n",
        "\n",
        "\n",
        "model.eval()\n",
        "\n",
        "print(\"✅ Model successfully loaded!\")\n"
      ],
      "metadata": {
        "colab": {
          "base_uri": "https://localhost:8080/"
        },
        "id": "UpKUh423TCvl",
        "outputId": "697bcc3c-f981-4b9d-9125-8b781dfad7a8"
      },
      "execution_count": null,
      "outputs": [
        {
          "output_type": "stream",
          "name": "stdout",
          "text": [
            "✅ Model successfully loaded!\n"
          ]
        }
      ]
    },
    {
      "cell_type": "code",
      "source": [
        "# text to tokens\n",
        "\n",
        "\n",
        "\n",
        "\n",
        "def text_to_token_ids(text,tokenizer):\n",
        "  encoded = tokenizer.encode(text,allowed_special = {'<|endoftext|>'})\n",
        "  encoded_tensor = torch.tensor(encoded).unsqueeze(0)\n",
        "  return encoded_tensor\n",
        "\n",
        "def token_ids_to_text(token_ids,tokenizer):\n",
        "  flat = token_ids.squeeze(0)\n",
        "  return tokenizer.decode(flat.tolist())\n",
        "\n",
        "start_context = \"Every effort moves you\"\n",
        "tokenizer = tiktoken.get_encoding(\"gpt2\")\n",
        "\n",
        "token_ids = generate_text_simple(\n",
        "    model = model,\n",
        "    idx = text_to_token_ids(start_context,tokenizer),\n",
        "    max_new_tokens = 10,\n",
        "    context_size = GPT_CONFIG_124M[\"context_length\"]\n",
        ")\n",
        "\n",
        "print(\"output: \", token_ids_to_text(token_ids, tokenizer))"
      ],
      "metadata": {
        "id": "puz9Ut1QdVCW",
        "colab": {
          "base_uri": "https://localhost:8080/"
        },
        "outputId": "bc7f3f88-fc90-4733-bdc0-42d247b181f8"
      },
      "execution_count": null,
      "outputs": [
        {
          "output_type": "stream",
          "name": "stdout",
          "text": [
            "output:  Every effort moves you know,” said Mr. Jaggers,\n"
          ]
        }
      ]
    },
    {
      "cell_type": "code",
      "source": [
        "def generate(model, idx, max_new_tokens, context_size, temperature = 0.0, top_k = None, eos_id = None):\n",
        "  for _ in range(max_new_tokens):\n",
        "    idx_cond = idx[:,-context_size:]\n",
        "    with torch.no_grad():\n",
        "      logits = model(idx_cond)\n",
        "    logits = logits[:, -1, :]\n",
        "    if top_k is not None:\n",
        "      top_logits,_ = torch.topk(logits,top_k)\n",
        "      min_value = top_logits[:, -1]\n",
        "      logits = torch.where(\n",
        "          logits < min_value,\n",
        "          torch.tensor(float('-inf')).to(logits.device),\n",
        "          logits\n",
        "      )\n",
        "    if temperature > 0.0:\n",
        "      logits = logits / temperature\n",
        "      probs = torch.softmax(logits, dim = -1)\n",
        "      idx_next = torch.multinomial(probs, num_samples = 1)\n",
        "    else:\n",
        "      idx_next = torch.argmax(logits, dim = -1, keepdim = True)\n",
        "    if idx_next == eos_id:\n",
        "      break\n",
        "    idx = torch.cat((idx,idx_next), dim = -1)\n",
        "  return idx"
      ],
      "metadata": {
        "id": "3QVsoXSMTSoE"
      },
      "outputs": [],
      "execution_count": null
    },
    {
      "cell_type": "code",
      "source": [
        "token_ids = generate(\n",
        "    model = model,\n",
        "    idx = text_to_token_ids(\"Hello, I am\", tokenizer),\n",
        "    max_new_tokens = 15,\n",
        "    context_size = GPT_CONFIG_124M['context_length'],\n",
        "    top_k = 25,\n",
        "    temperature = 1.4\n",
        ")\n",
        "print(\"output: \", token_ids_to_text(token_ids, tokenizer))"
      ],
      "metadata": {
        "colab": {
          "base_uri": "https://localhost:8080/"
        },
        "outputId": "530f7d1d-a07e-457e-e531-06c186f33597",
        "id": "F2TVuwP2TSoF"
      },
      "outputs": [
        {
          "output_type": "stream",
          "name": "stdout",
          "text": [
            "output:  Hello, I am, in your very glad to my opinion, I am, at Mr.\n"
          ]
        }
      ],
      "execution_count": null
    },
    {
      "cell_type": "code",
      "source": [],
      "metadata": {
        "id": "N42tURVZUJjT"
      },
      "execution_count": null,
      "outputs": []
    }
  ]
}